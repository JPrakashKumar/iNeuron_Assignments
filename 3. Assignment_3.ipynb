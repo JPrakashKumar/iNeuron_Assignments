{
 "cells": [
  {
   "cell_type": "markdown",
   "id": "be0798d4",
   "metadata": {},
   "source": [
    "## 1. Why are functions advantageous to have in your programs?"
   ]
  },
  {
   "cell_type": "code",
   "execution_count": null,
   "id": "239a9edc",
   "metadata": {},
   "outputs": [],
   "source": [
    "To increase reusibility of code we use function in our programs.\n",
    "This makes programs requires lesser code, easy to read and modify."
   ]
  },
  {
   "cell_type": "markdown",
   "id": "e2391825",
   "metadata": {},
   "source": [
    "## 2. When does the code in a function run: when it&#39;s specified or when it&#39;s called?"
   ]
  },
  {
   "cell_type": "code",
   "execution_count": null,
   "id": "8bef3ed7",
   "metadata": {},
   "outputs": [],
   "source": [
    "Code in a function run when it is called, not when it is specified."
   ]
  },
  {
   "cell_type": "markdown",
   "id": "e553e536",
   "metadata": {},
   "source": [
    "## 3. What statement creates a function?"
   ]
  },
  {
   "cell_type": "code",
   "execution_count": null,
   "id": "0528e29f",
   "metadata": {},
   "outputs": [],
   "source": [
    "The def statement defines a function."
   ]
  },
  {
   "cell_type": "code",
   "execution_count": 1,
   "id": "8abb8927",
   "metadata": {},
   "outputs": [
    {
     "name": "stdout",
     "output_type": "stream",
     "text": [
      "60\n"
     ]
    }
   ],
   "source": [
    "# example:\n",
    "def sum(a,b):\n",
    "    r = a + b\n",
    "    return r\n",
    "\n",
    "print(sum(10,50))"
   ]
  },
  {
   "cell_type": "markdown",
   "id": "dd42305b",
   "metadata": {},
   "source": [
    "## 4. What is the difference between a function and a function call?"
   ]
  },
  {
   "cell_type": "code",
   "execution_count": null,
   "id": "3ecf61e7",
   "metadata": {},
   "outputs": [],
   "source": [
    "A function consists of the def statement and function body. \n",
    "A function call is what moves the program execution into the function, and\n",
    "the function call evaluates to the function’s return value."
   ]
  },
  {
   "cell_type": "markdown",
   "id": "0b0cffd8",
   "metadata": {},
   "source": [
    "## 5. How many global scopes are there in a Python program? How many local scopes?"
   ]
  },
  {
   "cell_type": "code",
   "execution_count": null,
   "id": "4593abfb",
   "metadata": {},
   "outputs": [],
   "source": [
    "There is one global scope, and a local scope is created whenever a\n",
    "function is called."
   ]
  },
  {
   "cell_type": "markdown",
   "id": "259b9ce2",
   "metadata": {},
   "source": [
    "## 6. What happens to variables in a local scope when the function call returns?"
   ]
  },
  {
   "cell_type": "code",
   "execution_count": null,
   "id": "53f95780",
   "metadata": {},
   "outputs": [],
   "source": [
    "When a function returns, the local scope is destroyed, and all the\n",
    "variables in it are forgotten."
   ]
  },
  {
   "cell_type": "markdown",
   "id": "493c9b93",
   "metadata": {},
   "source": [
    "## 7. What is the concept of a return value? Is it possible to have a return value in an expression?"
   ]
  },
  {
   "cell_type": "code",
   "execution_count": null,
   "id": "4d015a52",
   "metadata": {},
   "outputs": [],
   "source": [
    "A return value is the value that a function call evaluates to. Like any value, a return value can be used as part \n",
    "of an expression."
   ]
  },
  {
   "cell_type": "markdown",
   "id": "654bd458",
   "metadata": {},
   "source": [
    "## 8. If a function does not have a return statement, what is the return value of a call to that function?"
   ]
  },
  {
   "cell_type": "code",
   "execution_count": null,
   "id": "c93dbe91",
   "metadata": {},
   "outputs": [],
   "source": [
    "If there is no return statement for a function, its return value is None."
   ]
  },
  {
   "cell_type": "markdown",
   "id": "633df97c",
   "metadata": {},
   "source": [
    "## 9. How do you make a function variable refer to the global variable?"
   ]
  },
  {
   "cell_type": "code",
   "execution_count": null,
   "id": "ba3dea65",
   "metadata": {},
   "outputs": [],
   "source": [
    "A global statement will force a variable in a function to refer to the\n",
    "global variable."
   ]
  },
  {
   "cell_type": "markdown",
   "id": "c3accdc7",
   "metadata": {},
   "source": [
    "## 10. What is the data type of None?"
   ]
  },
  {
   "cell_type": "code",
   "execution_count": null,
   "id": "8a385b5b",
   "metadata": {},
   "outputs": [],
   "source": [
    "The data type of None is NoneType."
   ]
  },
  {
   "cell_type": "markdown",
   "id": "f3807532",
   "metadata": {},
   "source": [
    "## 11. What does the sentence import areallyourpetsnamederic do?"
   ]
  },
  {
   "cell_type": "code",
   "execution_count": null,
   "id": "d4382c3d",
   "metadata": {},
   "outputs": [],
   "source": [
    "That import statement imports a module named areallyourpetsnamederic. "
   ]
  },
  {
   "cell_type": "markdown",
   "id": "ae343ae4",
   "metadata": {},
   "source": [
    "## 12. If you had a bacon() feature in a spam module, what would you call it after importing spam?"
   ]
  },
  {
   "cell_type": "code",
   "execution_count": null,
   "id": "37761bda",
   "metadata": {},
   "outputs": [],
   "source": [
    "We can call the function as spam.bacon()."
   ]
  },
  {
   "cell_type": "markdown",
   "id": "0fc2bd43",
   "metadata": {},
   "source": [
    "## 13. What can you do to save a programme from crashing if it encounters an error?"
   ]
  },
  {
   "cell_type": "code",
   "execution_count": null,
   "id": "d00beeaa",
   "metadata": {},
   "outputs": [],
   "source": [
    "We can use try and except statement to handle the error."
   ]
  },
  {
   "cell_type": "markdown",
   "id": "5593bb6f",
   "metadata": {},
   "source": [
    "## 14. What is the purpose of the try clause? What is the purpose of the except clause?"
   ]
  },
  {
   "cell_type": "code",
   "execution_count": null,
   "id": "7315f7a4",
   "metadata": {},
   "outputs": [],
   "source": [
    "Purpose of try clause is to run the critical code inside the try block and if encounters any error, \n",
    "interpreter will jumped to except block.\n",
    "Purpose of except clause is to highlight the exception error or executes the code with error message to save \n",
    "the program from unwanted crash."
   ]
  }
 ],
 "metadata": {
  "kernelspec": {
   "display_name": "Python 3 (ipykernel)",
   "language": "python",
   "name": "python3"
  },
  "language_info": {
   "codemirror_mode": {
    "name": "ipython",
    "version": 3
   },
   "file_extension": ".py",
   "mimetype": "text/x-python",
   "name": "python",
   "nbconvert_exporter": "python",
   "pygments_lexer": "ipython3",
   "version": "3.10.6"
  }
 },
 "nbformat": 4,
 "nbformat_minor": 5
}
