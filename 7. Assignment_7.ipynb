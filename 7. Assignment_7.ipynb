{
 "cells": [
  {
   "cell_type": "markdown",
   "id": "b7361dd1",
   "metadata": {},
   "source": [
    "## 1. What is the name of the feature responsible for generating Regex objects?"
   ]
  },
  {
   "cell_type": "code",
   "execution_count": null,
   "id": "88953d86",
   "metadata": {},
   "outputs": [],
   "source": [
    "The re.compile() function returns Regex objects."
   ]
  },
  {
   "cell_type": "markdown",
   "id": "146db50e",
   "metadata": {},
   "source": [
    "## 2. Why do raw strings often appear in Regex objects?"
   ]
  },
  {
   "cell_type": "code",
   "execution_count": null,
   "id": "2b040418",
   "metadata": {},
   "outputs": [],
   "source": [
    "Raw strings are used so that backslashes do not have to be escaped.\n",
    "\n",
    "reg = re.compile(r'\\d\\d\\d-\\d\\d\\d\\d-\\d\\d')"
   ]
  },
  {
   "cell_type": "markdown",
   "id": "63f9430a",
   "metadata": {},
   "source": [
    "## 3. What is the return value of the search() method?"
   ]
  },
  {
   "cell_type": "code",
   "execution_count": null,
   "id": "3c2fd81d",
   "metadata": {},
   "outputs": [],
   "source": [
    "The search() method returns Match objects."
   ]
  },
  {
   "cell_type": "markdown",
   "id": "9937fd79",
   "metadata": {},
   "source": [
    "## 4. From a Match item, how do you get the actual strings that match the pattern?"
   ]
  },
  {
   "cell_type": "code",
   "execution_count": null,
   "id": "8e711267",
   "metadata": {},
   "outputs": [],
   "source": [
    "The group() method returns strings of the matched text."
   ]
  },
  {
   "cell_type": "code",
   "execution_count": 4,
   "id": "eea91b3f",
   "metadata": {},
   "outputs": [
    {
     "data": {
      "text/plain": [
       "'91-929896-4242'"
      ]
     },
     "execution_count": 4,
     "metadata": {},
     "output_type": "execute_result"
    }
   ],
   "source": [
    "import re\n",
    "\n",
    "reg = re.compile(r'\\d\\d-\\d\\d\\d\\d\\d\\d-\\d\\d\\d\\d')\n",
    "data = reg.search('91-929896-4242.')\n",
    "data.group()"
   ]
  },
  {
   "cell_type": "markdown",
   "id": "ec700545",
   "metadata": {},
   "source": [
    "## 5. In the regex which created from the r&#39;(\\d\\d\\d)-(\\d\\d\\d-\\d\\d\\d\\d)&#39;, what does group zero cover?\n",
    "Group 2? Group 1?"
   ]
  },
  {
   "cell_type": "code",
   "execution_count": null,
   "id": "02013ba4",
   "metadata": {},
   "outputs": [],
   "source": [
    "Group 0 return entire matched text , group 1 return only the first set of matched text,\n",
    "and group 2 return the second set of matched text."
   ]
  },
  {
   "cell_type": "code",
   "execution_count": 9,
   "id": "ed8e9e71",
   "metadata": {},
   "outputs": [
    {
     "name": "stdout",
     "output_type": "stream",
     "text": [
      "91-929896-4242\n",
      "91\n",
      "929896\n",
      "4242\n"
     ]
    }
   ],
   "source": [
    "import re\n",
    "\n",
    "reg = re.compile(r'(\\d\\d)-(\\d\\d\\d\\d\\d\\d)-(\\d\\d\\d\\d)')\n",
    "data = reg.search('91-929896-4242.')\n",
    "\n",
    "print(data.group(0))\n",
    "print(data.group(1))\n",
    "print(data.group(2))\n",
    "print(data.group(3))"
   ]
  },
  {
   "cell_type": "markdown",
   "id": "95e62fe5",
   "metadata": {},
   "source": [
    "## 6. In standard expression syntax, parentheses and intervals have distinct meanings. How can you tell a regex that you want it to fit real parentheses and periods?"
   ]
  },
  {
   "cell_type": "code",
   "execution_count": null,
   "id": "bd8c6e4a",
   "metadata": {},
   "outputs": [],
   "source": [
    "Periods and parentheses can be escaped with a backslash: \\., \\()."
   ]
  },
  {
   "cell_type": "code",
   "execution_count": 15,
   "id": "5f479bd7",
   "metadata": {},
   "outputs": [],
   "source": [
    "reg = re.compile(r'(\\(Parentheses\\))')\n",
    "reg = re.compile(r'\\.')"
   ]
  },
  {
   "cell_type": "markdown",
   "id": "8a7fee96",
   "metadata": {},
   "source": [
    "## 7. The findall() method returns a string list or a list of string tuples. What causes it to return one of the two options?"
   ]
  },
  {
   "cell_type": "code",
   "execution_count": null,
   "id": "46c2350b",
   "metadata": {},
   "outputs": [],
   "source": [
    "If the regex has no groups, a list of strings is returned. If the regex has\n",
    "groups, a list of tuples of strings is returned."
   ]
  },
  {
   "cell_type": "code",
   "execution_count": 20,
   "id": "353c0ceb",
   "metadata": {},
   "outputs": [
    {
     "data": {
      "text/plain": [
       "['91-979236-4534', '91-853046-2567']"
      ]
     },
     "execution_count": 20,
     "metadata": {},
     "output_type": "execute_result"
    }
   ],
   "source": [
    "reg = re.compile(r'\\d\\d-\\d\\d\\d\\d\\d\\d-\\d\\d\\d\\d') # There is no group\n",
    "reg.findall('Contact no.: 91-979236-4534 Alternate no.: 91-853046-2567')"
   ]
  },
  {
   "cell_type": "code",
   "execution_count": 22,
   "id": "5c76f878",
   "metadata": {},
   "outputs": [
    {
     "data": {
      "text/plain": [
       "[('91', '979236', '453'), ('91', '853046', '256')]"
      ]
     },
     "execution_count": 22,
     "metadata": {},
     "output_type": "execute_result"
    }
   ],
   "source": [
    "reg = re.compile(r'(\\d\\d)-(\\d\\d\\d\\d\\d\\d)-(\\d\\d\\d)') # There is group\n",
    "reg.findall('Contact no.: 91-979236-4534 Alternate no.: 91-853046-2567')"
   ]
  },
  {
   "cell_type": "markdown",
   "id": "52fb6cde",
   "metadata": {},
   "source": [
    "## 8. In standard expressions, what does the | character mean?"
   ]
  },
  {
   "cell_type": "code",
   "execution_count": null,
   "id": "f573af82",
   "metadata": {},
   "outputs": [],
   "source": [
    "The | character signifies matching “either, or” between two groups."
   ]
  },
  {
   "cell_type": "code",
   "execution_count": 23,
   "id": "e273a66e",
   "metadata": {},
   "outputs": [
    {
     "data": {
      "text/plain": [
       "'apple'"
      ]
     },
     "execution_count": 23,
     "metadata": {},
     "output_type": "execute_result"
    }
   ],
   "source": [
    "reg = re.compile (r'apple|orange')\n",
    "obj = reg.search('I like to eat apple & orange')\n",
    "obj.group()"
   ]
  },
  {
   "cell_type": "code",
   "execution_count": 24,
   "id": "d7d84a7d",
   "metadata": {},
   "outputs": [
    {
     "data": {
      "text/plain": [
       "'orange'"
      ]
     },
     "execution_count": 24,
     "metadata": {},
     "output_type": "execute_result"
    }
   ],
   "source": [
    "reg = re.compile (r'apple|orange')\n",
    "obj = reg.search('I like to eat orange & appple')\n",
    "obj.group()"
   ]
  },
  {
   "cell_type": "markdown",
   "id": "1850d5a7",
   "metadata": {},
   "source": [
    "## 9. In regular expressions, what does the character stand for?"
   ]
  },
  {
   "cell_type": "code",
   "execution_count": null,
   "id": "6ee9f6af",
   "metadata": {},
   "outputs": [],
   "source": [
    "The ? character can either mean “match zero or one of the preceding\n",
    "group” or be used to signify non-greedy matching."
   ]
  },
  {
   "cell_type": "markdown",
   "id": "bee9d3a2",
   "metadata": {},
   "source": [
    "## 10.In regular expressions, what is the difference between the + and * characters?"
   ]
  },
  {
   "cell_type": "code",
   "execution_count": null,
   "id": "d1fa11dc",
   "metadata": {},
   "outputs": [],
   "source": [
    "The + matches one or more string group. \n",
    "The * matches zero or more string group."
   ]
  },
  {
   "cell_type": "markdown",
   "id": "2d06d2e8",
   "metadata": {},
   "source": [
    "## 11. What is the difference between {4} and {4,5} in regular expression?"
   ]
  },
  {
   "cell_type": "code",
   "execution_count": null,
   "id": "3a2cedf6",
   "metadata": {},
   "outputs": [],
   "source": [
    "The {3} matches exactly three instances of the preceding group. \n",
    "The {3,5} matches between three and five instances."
   ]
  },
  {
   "cell_type": "markdown",
   "id": "254f6f66",
   "metadata": {},
   "source": [
    "## 12. What do you mean by the \\d, \\w, and \\s shorthand character classes signify in regular expressions?"
   ]
  },
  {
   "cell_type": "code",
   "execution_count": null,
   "id": "b288f624",
   "metadata": {},
   "outputs": [],
   "source": [
    "The \\d, \\w, and \\s shorthand character classes match a single digit,\n",
    "word, or space character, respectively."
   ]
  },
  {
   "cell_type": "markdown",
   "id": "f8652dbc",
   "metadata": {},
   "source": [
    "## 13. What do means by \\D, \\W, and \\S shorthand character classes signify in regular expressions?"
   ]
  },
  {
   "cell_type": "code",
   "execution_count": null,
   "id": "83f0b773",
   "metadata": {},
   "outputs": [],
   "source": [
    "The \\D, \\W, and \\S shorthand character classes match a single character\n",
    "that is not a digit, word, or space character, respectively."
   ]
  },
  {
   "cell_type": "markdown",
   "id": "8a74913d",
   "metadata": {},
   "source": [
    "## 14. What is the difference between .\\*? and .*?"
   ]
  },
  {
   "cell_type": "code",
   "execution_count": null,
   "id": "35cfbf9f",
   "metadata": {},
   "outputs": [],
   "source": [
    "The .* performs a greedy match, and the .*? performs a non-greedy\n",
    "match."
   ]
  },
  {
   "cell_type": "markdown",
   "id": "6a68fcd3",
   "metadata": {},
   "source": [
    "## 15. What is the syntax for matching both numbers and lowercase letters with a character class?"
   ]
  },
  {
   "cell_type": "code",
   "execution_count": null,
   "id": "c95817b1",
   "metadata": {},
   "outputs": [],
   "source": [
    "[0-9a-z] or [a-z0-9]"
   ]
  },
  {
   "cell_type": "markdown",
   "id": "3d1f11f7",
   "metadata": {},
   "source": [
    "## 16. What is the procedure for making a normal expression in regax case insensitive?"
   ]
  },
  {
   "cell_type": "code",
   "execution_count": null,
   "id": "d18b2289",
   "metadata": {},
   "outputs": [],
   "source": [
    "Adding re.I or re.IGNORECASE as the second argument to re.compile() will\n",
    "make the matching case insensitive."
   ]
  },
  {
   "cell_type": "markdown",
   "id": "6459b0e2",
   "metadata": {},
   "source": [
    "## 17. What does the . character normally match? What does it match if re.DOTALL is passed as 2nd argument in re.compile()?"
   ]
  },
  {
   "cell_type": "code",
   "execution_count": null,
   "id": "4850aa87",
   "metadata": {},
   "outputs": [],
   "source": [
    "The . character normally matches any character except the newline character. \n",
    "If re.DOTALL is passed as the second argument to re.compile(), then the dot will also match newline characters."
   ]
  },
  {
   "cell_type": "markdown",
   "id": "29e21f41",
   "metadata": {},
   "source": [
    "## 18. If numReg = re.compile(r&#39;\\d+&#39;), what will numRegex.sub(&#39;X&#39;, &#39;11 drummers, 10 pipers, five rings, 4 hen&#39;) return?"
   ]
  },
  {
   "cell_type": "code",
   "execution_count": 26,
   "id": "b6398772",
   "metadata": {},
   "outputs": [
    {
     "data": {
      "text/plain": [
       "'X drummers, X pipers, five rings, X hen'"
      ]
     },
     "execution_count": 26,
     "metadata": {},
     "output_type": "execute_result"
    }
   ],
   "source": [
    "numReg = re.compile(r'\\d+')\n",
    "numReg.sub('X', '11 drummers, 10 pipers, five rings, 4 hen')"
   ]
  },
  {
   "cell_type": "markdown",
   "id": "d7cdb89d",
   "metadata": {},
   "source": [
    "## 19. What does passing re.VERBOSE as the 2nd argument to re.compile() allow to do?"
   ]
  },
  {
   "cell_type": "code",
   "execution_count": null,
   "id": "f0306d58",
   "metadata": {},
   "outputs": [],
   "source": [
    "The re.VERBOSE argument allows you to add whitespace and comments\n",
    "to the string passed to re.compile()."
   ]
  },
  {
   "cell_type": "markdown",
   "id": "21629d6d",
   "metadata": {},
   "source": [
    "## 20. How would you write a regex that match a number with comma for every three digits? It must match the given following:\n",
    "&#39;42&#39;\n",
    "&#39;1,234&#39;\n",
    "&#39;6,368,745&#39;\n",
    "\n",
    "but not the following:\n",
    "&#39;12,34,567&#39; (which has only two digits between the commas)\n",
    "&#39;1234&#39; (which lacks commas)"
   ]
  },
  {
   "cell_type": "code",
   "execution_count": null,
   "id": "15447176",
   "metadata": {},
   "outputs": [],
   "source": [
    "^\\d{1,3} The '^' symbol tells to search for integers at the start of the line. d{1,3} tells that there \n",
    "should be at least one integer but not more than 3 \n",
    "\n",
    "(,\\d{3})*$ expression tells that there should be one comma followed by three integers at the end of the line as \n",
    "many as there are.\n",
    "\n",
    "So, after combining both the above expression we get the following regex object.\n",
    "re.compile(r'^\\d{1,3}(,\\d{3})*$')"
   ]
  },
  {
   "cell_type": "markdown",
   "id": "57771263",
   "metadata": {},
   "source": [
    "## 21. How would you write a regex that matches the full name of someone whose last name is Watanabe? You can assume that the first name that comes before it will always be one word that begins with a capital letter. The regex must match the following:\n",
    "&#39;Haruto Watanabe&#39;\n",
    "&#39;Alice Watanabe&#39;\n",
    "&#39;RoboCop Watanabe&#39;\n",
    "but not the following:\n",
    "&#39;haruto Watanabe&#39; (where the first name is not capitalized)\n",
    "&#39;Mr. Watanabe&#39; (where the preceding word has a nonletter character)\n",
    "&#39;Watanabe&#39; (which has no first name)\n",
    "&#39;Haruto watanabe&#39; (where Watanabe is not capitalized)"
   ]
  },
  {
   "cell_type": "code",
   "execution_count": null,
   "id": "1a8c1515",
   "metadata": {},
   "outputs": [],
   "source": [
    "re.compile(r'[A-Z][a-z]*\\sWatanabe')"
   ]
  },
  {
   "cell_type": "markdown",
   "id": "6da84889",
   "metadata": {},
   "source": [
    "## 22. How would you write a regex that matches a sentence where the first word is either Alice, Bob, or Carol; the second word is either eats, pets, or throws; the third word is apples, cats, or baseballs; and the sentence ends with a period? This regex should be caseinsensitive. It must match the following:\n",
    "&#39;Alice eats apples.&#39;\n",
    "&#39;Bob pets cats.&#39;\n",
    "&#39;Carol throws baseballs.&#39;\n",
    "&#39;Alice throws Apples.&#39;\n",
    "&#39;BOB EATS CATS.&#39;\n",
    "but not the following:\n",
    "&#39;RoboCop eats apples.&#39;\n",
    "&#39;ALICE THROWS FOOTBALLS.&#39;\n",
    "&#39;Carol eats 7 cats.&#39;"
   ]
  },
  {
   "cell_type": "code",
   "execution_count": null,
   "id": "157b8620",
   "metadata": {},
   "outputs": [],
   "source": [
    "re.compile(r'(Alice|Bob|Carol)\\s(eats|pets|throws)\\s(apples|cats|baseballs)\\.', re.IGNORECASE)"
   ]
  }
 ],
 "metadata": {
  "kernelspec": {
   "display_name": "Python 3 (ipykernel)",
   "language": "python",
   "name": "python3"
  },
  "language_info": {
   "codemirror_mode": {
    "name": "ipython",
    "version": 3
   },
   "file_extension": ".py",
   "mimetype": "text/x-python",
   "name": "python",
   "nbconvert_exporter": "python",
   "pygments_lexer": "ipython3",
   "version": "3.10.6"
  }
 },
 "nbformat": 4,
 "nbformat_minor": 5
}
