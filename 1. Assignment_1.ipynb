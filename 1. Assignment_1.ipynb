{
 "cells": [
  {
   "cell_type": "markdown",
   "id": "75c51565",
   "metadata": {},
   "source": [
    "## 1. In the below elements which of them are values or an expression? eg:- values can be integer or string and expressions will be mathematical operators.\n",
    "\n",
    "*, 'hello', -87.8, -, /, +, 6"
   ]
  },
  {
   "cell_type": "code",
   "execution_count": null,
   "id": "20616907",
   "metadata": {},
   "outputs": [],
   "source": [
    "Expression : *, -, /, +\n",
    "Integer value : -87.8, 6\n",
    "String value    : 'hello'"
   ]
  },
  {
   "cell_type": "markdown",
   "id": "30ccbdf6",
   "metadata": {},
   "source": [
    "## 2. What is the difference between string and variable?"
   ]
  },
  {
   "cell_type": "code",
   "execution_count": null,
   "id": "cdc815e0",
   "metadata": {},
   "outputs": [],
   "source": [
    "Variable : They are containers for storing data values of different datatypes i.e. integer,string,float etc.\n",
    "           Variable is created when we assign value to it.\n",
    "           Variables do not need to be declared with any particular type, Python Interpreter automatically detect\n",
    "           the data type of the variable accoring to type of value assigned to the variable.\n"
   ]
  },
  {
   "cell_type": "code",
   "execution_count": 34,
   "id": "c6ef64af",
   "metadata": {},
   "outputs": [
    {
     "name": "stdout",
     "output_type": "stream",
     "text": [
      "<class 'int'>\n",
      "<class 'str'>\n",
      "<class 'float'>\n"
     ]
    }
   ],
   "source": [
    "# Example of declaring variable\n",
    "\n",
    "a = 10      # detected as integer\n",
    "b = 'ball'  # detected as string\n",
    "c = 3.14    # detected as float\n",
    "\n",
    "# Varifing datatype of above declared variables\n",
    "\n",
    "print(type(a))\n",
    "print(type(b))\n",
    "print(type(c))"
   ]
  },
  {
   "cell_type": "code",
   "execution_count": null,
   "id": "411b7b69",
   "metadata": {},
   "outputs": [],
   "source": [
    "String : String is sequence type datatype, store sequence of characters.\n",
    "         Datatype of a variable is string when we assign the value to variable in quotation marks '' or \"\".\n",
    "         we can expicitly change the datatype of other variable to string type variable using 'str'.   "
   ]
  },
  {
   "cell_type": "code",
   "execution_count": 37,
   "id": "1cb38dd3",
   "metadata": {},
   "outputs": [
    {
     "name": "stdout",
     "output_type": "stream",
     "text": [
      "prakash Kumar\n",
      "<class 'str'>\n",
      "<class 'str'>\n"
     ]
    }
   ],
   "source": [
    "x = 'prakash'\n",
    "y = \"Kumar\"\n",
    "print(x,y)\n",
    "print(type(x))\n",
    "print(type(y))"
   ]
  },
  {
   "cell_type": "code",
   "execution_count": 38,
   "id": "1c242f64",
   "metadata": {},
   "outputs": [
    {
     "name": "stdout",
     "output_type": "stream",
     "text": [
      "<class 'int'>\n",
      "<class 'str'>\n"
     ]
    }
   ],
   "source": [
    "# converting integer to string\n",
    "\n",
    "a = 10\n",
    "print(type(a))\n",
    "\n",
    "a = str(a)\n",
    "print(type(a))"
   ]
  },
  {
   "cell_type": "markdown",
   "id": "3ddea632",
   "metadata": {},
   "source": [
    "## 3. Describe three different data types."
   ]
  },
  {
   "cell_type": "code",
   "execution_count": null,
   "id": "7f27994a",
   "metadata": {},
   "outputs": [],
   "source": [
    "Three Different datatypes are Numeric Type,Boolean Type, Sequence Type.\n",
    "\n",
    "Numeric types in python are int, float, complex."
   ]
  },
  {
   "cell_type": "code",
   "execution_count": 14,
   "id": "25d43dd4",
   "metadata": {},
   "outputs": [
    {
     "name": "stdout",
     "output_type": "stream",
     "text": [
      "<class 'int'>\n",
      "<class 'int'>\n"
     ]
    }
   ],
   "source": [
    "# int : Store numbers that does not contains Decimal Values.\n",
    "a = 2\n",
    "b = -10 \n",
    "print(type(a))\n",
    "print(type(b))"
   ]
  },
  {
   "cell_type": "code",
   "execution_count": 15,
   "id": "ade26d8a",
   "metadata": {},
   "outputs": [
    {
     "name": "stdout",
     "output_type": "stream",
     "text": [
      "<class 'float'>\n",
      "<class 'float'>\n"
     ]
    }
   ],
   "source": [
    "# float : Store numbers containing Decimal Values.\n",
    "x = 5.5\n",
    "y = -13.0 \n",
    "print(type(x))\n",
    "print(type(y))"
   ]
  },
  {
   "cell_type": "code",
   "execution_count": 18,
   "id": "ac764978",
   "metadata": {},
   "outputs": [
    {
     "name": "stdout",
     "output_type": "stream",
     "text": [
      "<class 'complex'>\n",
      "<class 'complex'>\n"
     ]
    }
   ],
   "source": [
    "# complex : Store numbers that must have Imaginary part, denoted by 'j';.\n",
    "p = 5+1j\n",
    "q = -10j\n",
    "print(type(p))\n",
    "print(type(q))"
   ]
  },
  {
   "cell_type": "code",
   "execution_count": 22,
   "id": "a1e37265",
   "metadata": {},
   "outputs": [
    {
     "name": "stdout",
     "output_type": "stream",
     "text": [
      "<class 'bool'>\n",
      "<class 'bool'>\n"
     ]
    }
   ],
   "source": [
    "# Boolean types in python always return one of the values 'True' and 'False'. \n",
    "# 'bool' repesents variable is boolean type.\n",
    "a = True \n",
    "c = False \n",
    "print(type(a))   \n",
    "print(type(c))"
   ]
  },
  {
   "cell_type": "code",
   "execution_count": null,
   "id": "234779f2",
   "metadata": {},
   "outputs": [],
   "source": [
    "Sequence types in python are list, tuple and string."
   ]
  },
  {
   "cell_type": "code",
   "execution_count": 23,
   "id": "3a6d5346",
   "metadata": {},
   "outputs": [
    {
     "name": "stdout",
     "output_type": "stream",
     "text": [
      "['apple', 2.6, 10, 5j, True]\n",
      "<class 'list'>\n"
     ]
    }
   ],
   "source": [
    "# list : Store multiple items of different datatype in a single variable.\n",
    "\n",
    "l = ['apple', 2.6, 10, 5j, True]\n",
    "print(l)\n",
    "print(type(l))"
   ]
  },
  {
   "cell_type": "code",
   "execution_count": 24,
   "id": "e6ea89b6",
   "metadata": {},
   "outputs": [
    {
     "name": "stdout",
     "output_type": "stream",
     "text": [
      "('apple', 2.6, 10, 5j, True)\n",
      "<class 'tuple'>\n"
     ]
    }
   ],
   "source": [
    "# tuple : Store multiple items of different datatype in a single variable.\n",
    "# But once tuple created we cannot change, add and remove tuple items.\n",
    "   \n",
    "t = ('apple', 2.6, 10, 5j, True)\n",
    "print(t)\n",
    "print(type(t))       "
   ]
  },
  {
   "cell_type": "code",
   "execution_count": 33,
   "id": "38dc6d77",
   "metadata": {},
   "outputs": [
    {
     "name": "stdout",
     "output_type": "stream",
     "text": [
      "prakash jha\n",
      "<class 'str'>\n",
      "<class 'str'>\n"
     ]
    }
   ],
   "source": [
    "# string : Store sequence of characters represented in the quotation marks.\n",
    "      \n",
    "fname = 'prakash'\n",
    "lname = 'jha' \n",
    "\n",
    "print(fname,lname)\n",
    "print(type(fname))\n",
    "print(type(lname))              "
   ]
  },
  {
   "cell_type": "markdown",
   "id": "21021ac1",
   "metadata": {},
   "source": [
    "## 4. What is an expression made up of? What do all expressions do?"
   ]
  },
  {
   "cell_type": "code",
   "execution_count": null,
   "id": "d9b4888e",
   "metadata": {},
   "outputs": [],
   "source": [
    "An expression is the combination of operator,operands and identifiers. \n",
    "\n",
    "Operator : An operator is a special symbol that performs the arithmetic or logical computations on the operands.\n",
    "Operands : An operand is an object on which operation is taking place to return expected result. \n",
    "Identifiers : An identifier is a name that is used to define and identify a class, variable, or function in Python.\n",
    "\n",
    "The expression in Python produces some value or result after being interpreted by the Python interpreter.\n",
    "If there are various operators in an expression then the operators are resolved based on their precedence."
   ]
  },
  {
   "cell_type": "code",
   "execution_count": 39,
   "id": "d5636c61",
   "metadata": {},
   "outputs": [
    {
     "name": "stdout",
     "output_type": "stream",
     "text": [
      "38\n"
     ]
    }
   ],
   "source": [
    "# Example:\n",
    "\n",
    "a = 18\n",
    "b = 20\n",
    "\n",
    "sum = a + b  # Expression\n",
    "\n",
    "print(sum)   "
   ]
  },
  {
   "cell_type": "code",
   "execution_count": 40,
   "id": "2e5019aa",
   "metadata": {},
   "outputs": [
    {
     "name": "stdout",
     "output_type": "stream",
     "text": [
      "80.0\n"
     ]
    }
   ],
   "source": [
    "# Using multiple operator:\n",
    "x = 10\n",
    "y = 20\n",
    "z = 100\n",
    "\n",
    "result = (z/x)+(x*y)-(x+y+z)  # operator is executed according to precedence rule.\n",
    "\n",
    "print(result)"
   ]
  },
  {
   "cell_type": "markdown",
   "id": "bb14f5f8",
   "metadata": {},
   "source": [
    "## 5. This assignment statements, like spam = 10. What is the difference between an expression and a statement?"
   ]
  },
  {
   "cell_type": "code",
   "execution_count": null,
   "id": "40db995d",
   "metadata": {},
   "outputs": [],
   "source": [
    "An expression evaluates to a single value. A statement does not.\n",
    "If you can assign result to a variable, it’s an expression. If you can’t, it’s a statement."
   ]
  },
  {
   "cell_type": "code",
   "execution_count": 6,
   "id": "75d7921d",
   "metadata": {},
   "outputs": [
    {
     "name": "stdout",
     "output_type": "stream",
     "text": [
      "110 20 19 67\n"
     ]
    }
   ],
   "source": [
    "# Example of Expression:\n",
    "\n",
    "z=10   # Required statement to initilize the value of z.\n",
    "\n",
    "z = z+100\n",
    "a = z-90\n",
    "c = min(29,29.1,77,52,19)\n",
    "d = max(41.3,37,45,67,22)\n",
    "\n",
    "print(z,a,c,d)"
   ]
  },
  {
   "cell_type": "code",
   "execution_count": null,
   "id": "3c0dffc0",
   "metadata": {},
   "outputs": [],
   "source": [
    "# Example of Statement:\n",
    "if CONDITION: \n",
    "elif CONDITION: \n",
    "else CONDITION:\n",
    "raise\n",
    "return\n",
    "try etc."
   ]
  },
  {
   "cell_type": "markdown",
   "id": "f12b8de9",
   "metadata": {},
   "source": [
    "## 6. After running the following code, what does the variable bacon contain?\n",
    "bacon = 22, bacon + 1"
   ]
  },
  {
   "cell_type": "code",
   "execution_count": 42,
   "id": "e1999bed",
   "metadata": {},
   "outputs": [
    {
     "name": "stdout",
     "output_type": "stream",
     "text": [
      "22\n"
     ]
    }
   ],
   "source": [
    "bacon = 22\n",
    "bacon+1  #The variable bacon contain 22 as result, as incremented value is not assigned back to the variable bacon.\n",
    "\n",
    "print(bacon)"
   ]
  },
  {
   "cell_type": "markdown",
   "id": "df5e146c",
   "metadata": {},
   "source": [
    "## 7. What should the values of the following two terms be?\n",
    "&#39;spam&#39; + &#39;spamspam&#39;, &#39;spam&#39; * 3"
   ]
  },
  {
   "cell_type": "code",
   "execution_count": 7,
   "id": "e935ef48",
   "metadata": {},
   "outputs": [
    {
     "data": {
      "text/plain": [
       "'spamspamspam'"
      ]
     },
     "execution_count": 7,
     "metadata": {},
     "output_type": "execute_result"
    }
   ],
   "source": [
    "'spam' + 'spamspam'"
   ]
  },
  {
   "cell_type": "code",
   "execution_count": 45,
   "id": "d0d7c4cc",
   "metadata": {},
   "outputs": [
    {
     "data": {
      "text/plain": [
       "'spamspamspam'"
      ]
     },
     "execution_count": 45,
     "metadata": {},
     "output_type": "execute_result"
    }
   ],
   "source": [
    "'spam' * 3"
   ]
  },
  {
   "cell_type": "markdown",
   "id": "88b45a6a",
   "metadata": {},
   "source": [
    "## 8. Why is eggs a valid variable name while 100 is invalid?"
   ]
  },
  {
   "cell_type": "code",
   "execution_count": null,
   "id": "bded4c14",
   "metadata": {},
   "outputs": [],
   "source": [
    "In python , name of a variable cannot start with a number."
   ]
  },
  {
   "cell_type": "markdown",
   "id": "ee7df7fe",
   "metadata": {},
   "source": [
    "## 9. What three functions can be used to get the integer, floating-point number, or string version of a value?"
   ]
  },
  {
   "cell_type": "code",
   "execution_count": null,
   "id": "64b3ea9f",
   "metadata": {},
   "outputs": [],
   "source": [
    "The int(), float(), and str() functions will evaluate to the integer, floating-point number, and string versions of the value passed to them."
   ]
  },
  {
   "cell_type": "markdown",
   "id": "e745b516",
   "metadata": {},
   "source": [
    "## 10. Why does this expression cause an error? How can you fix it? &#39;I have eaten &#39; + 99 + &#39; burritos.&#39;"
   ]
  },
  {
   "cell_type": "code",
   "execution_count": 46,
   "id": "d9a6cead",
   "metadata": {},
   "outputs": [
    {
     "ename": "TypeError",
     "evalue": "can only concatenate str (not \"int\") to str",
     "output_type": "error",
     "traceback": [
      "\u001b[0;31m---------------------------------------------------------------------------\u001b[0m",
      "\u001b[0;31mTypeError\u001b[0m                                 Traceback (most recent call last)",
      "Cell \u001b[0;32mIn[46], line 1\u001b[0m\n\u001b[0;32m----> 1\u001b[0m \u001b[38;5;124;43m'\u001b[39;49m\u001b[38;5;124;43mI have eaten \u001b[39;49m\u001b[38;5;124;43m'\u001b[39;49m\u001b[43m \u001b[49m\u001b[38;5;241;43m+\u001b[39;49m\u001b[43m \u001b[49m\u001b[38;5;241;43m99\u001b[39;49m \u001b[38;5;241m+\u001b[39m \u001b[38;5;124m'\u001b[39m\u001b[38;5;124m burritos.\u001b[39m\u001b[38;5;124m'\u001b[39m\n",
      "\u001b[0;31mTypeError\u001b[0m: can only concatenate str (not \"int\") to str"
     ]
    }
   ],
   "source": [
    "'I have eaten ' + 99 + ' burritos.' # String value is not concatenate with Integer values"
   ]
  },
  {
   "cell_type": "code",
   "execution_count": 47,
   "id": "3e811e75",
   "metadata": {},
   "outputs": [
    {
     "data": {
      "text/plain": [
       "'I have eaten 99 burritos.'"
      ]
     },
     "execution_count": 47,
     "metadata": {},
     "output_type": "execute_result"
    }
   ],
   "source": [
    "# we can fix the above error using formatted string or f string.\n",
    "\n",
    "f'I have eaten {99} burritos.'"
   ]
  }
 ],
 "metadata": {
  "kernelspec": {
   "display_name": "Python 3 (ipykernel)",
   "language": "python",
   "name": "python3"
  },
  "language_info": {
   "codemirror_mode": {
    "name": "ipython",
    "version": 3
   },
   "file_extension": ".py",
   "mimetype": "text/x-python",
   "name": "python",
   "nbconvert_exporter": "python",
   "pygments_lexer": "ipython3",
   "version": "3.10.6"
  }
 },
 "nbformat": 4,
 "nbformat_minor": 5
}
