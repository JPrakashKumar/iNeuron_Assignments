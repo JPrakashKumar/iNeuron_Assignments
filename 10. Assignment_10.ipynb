{
 "cells": [
  {
   "cell_type": "markdown",
   "id": "9f020c68",
   "metadata": {},
   "source": [
    "## 1. How do you distinguish between shutil.copy() and shutil.copytree()?"
   ]
  },
  {
   "cell_type": "code",
   "execution_count": null,
   "id": "85acbc3d",
   "metadata": {},
   "outputs": [],
   "source": [
    "The shutil.copy() function will copy a single file, while shutil.copytree() will copy an entire folder, \n",
    "along with all its contents."
   ]
  },
  {
   "cell_type": "markdown",
   "id": "5ee6a10e",
   "metadata": {},
   "source": [
    "## 2. What function is used to rename files??"
   ]
  },
  {
   "cell_type": "code",
   "execution_count": null,
   "id": "82f35496",
   "metadata": {},
   "outputs": [],
   "source": [
    "The shutil.move() function is used for renaming files as well as moving them."
   ]
  },
  {
   "cell_type": "markdown",
   "id": "c28b5487",
   "metadata": {},
   "source": [
    "## 3. What is the difference between the delete functions in the send2trash and shutil modules?"
   ]
  },
  {
   "cell_type": "code",
   "execution_count": null,
   "id": "331d9ab3",
   "metadata": {},
   "outputs": [],
   "source": [
    "The send2trash functions will move a file or folder to the recycle bin,\n",
    "while shutil functions will permanently delete files and folders."
   ]
  },
  {
   "cell_type": "markdown",
   "id": "01cd29e2",
   "metadata": {},
   "source": [
    "## 4. ZipFile objects have a close() method just like File objects’ close() method. What ZipFile          method is equivalent to File objects’ open() method?"
   ]
  },
  {
   "cell_type": "code",
   "execution_count": null,
   "id": "008c4d0a",
   "metadata": {},
   "outputs": [],
   "source": [
    "The zipfile.ZipFile() function is equivalent to the open() function.\n",
    "The first argument is the filename, and the second argument is the mode to open the ZIP file \n",
    "in read, write, or append.\n",
    "\n",
    "myZip = zipfile.ZipFile('my.zip', 'w') # zip file opened in write mode."
   ]
  },
  {
   "cell_type": "markdown",
   "id": "d47212f0",
   "metadata": {},
   "source": [
    "## 5. Create a programme that searches a folder tree for files with a certain file extension (such as .pdf or .jpg). Copy these files from whatever location they are in to a new folder."
   ]
  },
  {
   "cell_type": "code",
   "execution_count": 61,
   "id": "7193db13",
   "metadata": {},
   "outputs": [
    {
     "name": "stdout",
     "output_type": "stream",
     "text": [
      "('/home/prakash/Documents/new_pdf_files', [], [])\n"
     ]
    }
   ],
   "source": [
    "for filename in os.walk('/home/prakash/Documents/new_pdf_files'):\n",
    "    print(filename) # the folder new_pdf_files is now empty."
   ]
  },
  {
   "cell_type": "code",
   "execution_count": 64,
   "id": "214f8ca7",
   "metadata": {
    "scrolled": true
   },
   "outputs": [],
   "source": [
    "import os, shutil\n",
    "\n",
    "def moveFileType(folder):\n",
    "    for folderName, subfolders, filenames in os.walk(folder):\n",
    "       # print(folderName)\n",
    "        #print(subfolders)\n",
    "        #print(filenames)\n",
    "        #for subfolder in subfolders:\n",
    "           # print(subfolder)\n",
    "        for filename in filenames:\n",
    "            #print(filename)\n",
    "            if filename.endswith('.pdf'):\n",
    "                my_path=os.path.join(folderName,filename)  # get the path location of each pdf file.\n",
    "                #print('location: ',my_path) \n",
    "                shutil.copy(my_path, '/home/prakash/Documents/new_pdf_files')\n",
    "                \n",
    "moveFileType('/home/prakash/Documents/test/')"
   ]
  },
  {
   "cell_type": "code",
   "execution_count": 66,
   "id": "2ebf550f",
   "metadata": {},
   "outputs": [
    {
     "name": "stdout",
     "output_type": "stream",
     "text": [
      "['affidevit.pdf', 'Netflix_may2023.pdf', 'Edubridge_DataAnalytics_Certificate.pdf', 'CV_2023022100291371.pdf', 'cheque.pdf']\n"
     ]
    }
   ],
   "source": [
    "for filename in os.walk('/home/prakash/Documents/new_pdf_files'):\n",
    "    # print(filename)\n",
    "    print(filename[2])  # the folder new_pdf_files is now contain all pdf files of pdf_files."
   ]
  }
 ],
 "metadata": {
  "kernelspec": {
   "display_name": "Python 3 (ipykernel)",
   "language": "python",
   "name": "python3"
  },
  "language_info": {
   "codemirror_mode": {
    "name": "ipython",
    "version": 3
   },
   "file_extension": ".py",
   "mimetype": "text/x-python",
   "name": "python",
   "nbconvert_exporter": "python",
   "pygments_lexer": "ipython3",
   "version": "3.10.6"
  }
 },
 "nbformat": 4,
 "nbformat_minor": 5
}
