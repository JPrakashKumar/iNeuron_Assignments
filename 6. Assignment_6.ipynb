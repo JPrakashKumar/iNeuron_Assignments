{
 "cells": [
  {
   "cell_type": "markdown",
   "id": "ca542b43",
   "metadata": {},
   "source": [
    "## 1. What are escape characters, and how do you use them?"
   ]
  },
  {
   "cell_type": "code",
   "execution_count": null,
   "id": "d511bc73",
   "metadata": {},
   "outputs": [],
   "source": [
    "Escape characters represent characters in string values that would otherwise be difficult or impossible \n",
    "to type into code.                                                                                                                "
   ]
  },
  {
   "cell_type": "markdown",
   "id": "71614e67",
   "metadata": {},
   "source": [
    "## 2. What do the escape characters n and t stand for?"
   ]
  },
  {
   "cell_type": "code",
   "execution_count": null,
   "id": "59cc3c65",
   "metadata": {},
   "outputs": [],
   "source": [
    "\\n is a newline character.\n",
    "\\t is a tab character."
   ]
  },
  {
   "cell_type": "markdown",
   "id": "e3866e52",
   "metadata": {},
   "source": [
    "## 3. What is the way to include backslash characters in a string?"
   ]
  },
  {
   "cell_type": "code",
   "execution_count": null,
   "id": "07056463",
   "metadata": {},
   "outputs": [],
   "source": [
    "The \\\\ escape character will represent a backslash character."
   ]
  },
  {
   "cell_type": "markdown",
   "id": "e9ef705f",
   "metadata": {},
   "source": [
    "## 4. The string &quot;Howl&#39;s Moving Castle&quot; is a correct value. Why isn&#39;t the single quote character in the word Howl&#39;s not escaped a problem?"
   ]
  },
  {
   "cell_type": "code",
   "execution_count": 2,
   "id": "6399a1b4",
   "metadata": {},
   "outputs": [
    {
     "data": {
      "text/plain": [
       "\"Howl's Moving Castle\""
      ]
     },
     "execution_count": 2,
     "metadata": {},
     "output_type": "execute_result"
    }
   ],
   "source": [
    "\"Howl's Moving Castle\""
   ]
  },
  {
   "cell_type": "code",
   "execution_count": 3,
   "id": "85cda4ed",
   "metadata": {},
   "outputs": [
    {
     "ename": "SyntaxError",
     "evalue": "unterminated string literal (detected at line 1) (2057793136.py, line 1)",
     "output_type": "error",
     "traceback": [
      "\u001b[0;36m  Cell \u001b[0;32mIn[3], line 1\u001b[0;36m\u001b[0m\n\u001b[0;31m    'Howl's Moving Castle'\u001b[0m\n\u001b[0m                         ^\u001b[0m\n\u001b[0;31mSyntaxError\u001b[0m\u001b[0;31m:\u001b[0m unterminated string literal (detected at line 1)\n"
     ]
    }
   ],
   "source": [
    "'Howl's Moving Castle'"
   ]
  },
  {
   "cell_type": "code",
   "execution_count": null,
   "id": "6b423e02",
   "metadata": {},
   "outputs": [],
   "source": [
    "If we use single quotes to print the string containing apostrophe latter, python interpreter will assume that\n",
    "string is terminating at apostrophe character and raise an error for next closing single quote. "
   ]
  },
  {
   "cell_type": "markdown",
   "id": "72d23acd",
   "metadata": {},
   "source": [
    "## 5. How do you write a string of newlines if you don&#39;t want to use the n character?"
   ]
  },
  {
   "cell_type": "code",
   "execution_count": null,
   "id": "1bc3f83e",
   "metadata": {},
   "outputs": [],
   "source": [
    "Multiline strings allow you to use newlines in strings without the \\n\n",
    "escape character."
   ]
  },
  {
   "cell_type": "code",
   "execution_count": 8,
   "id": "94f28060",
   "metadata": {
    "scrolled": true
   },
   "outputs": [
    {
     "name": "stdout",
     "output_type": "stream",
     "text": [
      "My name is prakash kumar jha\n",
      "I have completed B.tech in computer science branch \n",
      "currently I am working in a tech. company\n",
      "My next two years goals are to switch my career in Data Science branch as a good Data Scientist\n"
     ]
    }
   ],
   "source": [
    "d = '''My name is prakash kumar jha\n",
    "I have completed B.tech in computer science branch \n",
    "currently I am working in a tech. company\n",
    "My next two years goals are to switch my career in Data Science branch as a good Data Scientist'''\n",
    "\n",
    "print(d)"
   ]
  },
  {
   "cell_type": "markdown",
   "id": "32f1a5ce",
   "metadata": {},
   "source": [
    "## 6. What are the values of the given expressions?\n",
    "&#39;Hello, world!&#39;[1], &#39;Hello, world!&#39;[0:5], &#39;Hello, world!&#39;[:5], &#39;Hello, world!&#39;[3:]"
   ]
  },
  {
   "cell_type": "code",
   "execution_count": 15,
   "id": "63661726",
   "metadata": {},
   "outputs": [
    {
     "data": {
      "text/plain": [
       "'e'"
      ]
     },
     "execution_count": 15,
     "metadata": {},
     "output_type": "execute_result"
    }
   ],
   "source": [
    "'Hello, world!'[1]"
   ]
  },
  {
   "cell_type": "code",
   "execution_count": 16,
   "id": "478ee304",
   "metadata": {},
   "outputs": [
    {
     "data": {
      "text/plain": [
       "'Hello'"
      ]
     },
     "execution_count": 16,
     "metadata": {},
     "output_type": "execute_result"
    }
   ],
   "source": [
    "'Hello, world!'[0:5]"
   ]
  },
  {
   "cell_type": "code",
   "execution_count": 17,
   "id": "9f04bcc7",
   "metadata": {},
   "outputs": [
    {
     "data": {
      "text/plain": [
       "'Hello'"
      ]
     },
     "execution_count": 17,
     "metadata": {},
     "output_type": "execute_result"
    }
   ],
   "source": [
    "'Hello, world!'[:5]"
   ]
  },
  {
   "cell_type": "code",
   "execution_count": 18,
   "id": "87f342c7",
   "metadata": {},
   "outputs": [
    {
     "data": {
      "text/plain": [
       "'lo, world!'"
      ]
     },
     "execution_count": 18,
     "metadata": {},
     "output_type": "execute_result"
    }
   ],
   "source": [
    "'Hello, world!'[3:]"
   ]
  },
  {
   "cell_type": "markdown",
   "id": "b212714c",
   "metadata": {},
   "source": [
    "## 7. What are the values of the following expressions?\n",
    "&#39;Hello&#39;.upper()\n",
    "&#39;Hello&#39;.upper().isupper()\n",
    "&#39;Hello&#39;.upper().lower()"
   ]
  },
  {
   "cell_type": "code",
   "execution_count": 20,
   "id": "9ab42432",
   "metadata": {},
   "outputs": [
    {
     "data": {
      "text/plain": [
       "'HELLO'"
      ]
     },
     "execution_count": 20,
     "metadata": {},
     "output_type": "execute_result"
    }
   ],
   "source": [
    "'Hello'.upper()"
   ]
  },
  {
   "cell_type": "code",
   "execution_count": 21,
   "id": "a1ce4f1c",
   "metadata": {},
   "outputs": [
    {
     "data": {
      "text/plain": [
       "True"
      ]
     },
     "execution_count": 21,
     "metadata": {},
     "output_type": "execute_result"
    }
   ],
   "source": [
    "'Hello'.upper().isupper()"
   ]
  },
  {
   "cell_type": "code",
   "execution_count": 23,
   "id": "d609a05d",
   "metadata": {},
   "outputs": [
    {
     "data": {
      "text/plain": [
       "'hello'"
      ]
     },
     "execution_count": 23,
     "metadata": {},
     "output_type": "execute_result"
    }
   ],
   "source": [
    "'Hello'.upper().lower()"
   ]
  },
  {
   "cell_type": "markdown",
   "id": "709d1b29",
   "metadata": {},
   "source": [
    "## 8. What are the values of the following expressions?\n",
    "&#39;Remember, remember, the fifth of July.&#39;.split()\n",
    "&#39;-&#39;.join(&#39;There can only one.&#39;.split())"
   ]
  },
  {
   "cell_type": "code",
   "execution_count": 24,
   "id": "3a9b5301",
   "metadata": {},
   "outputs": [
    {
     "data": {
      "text/plain": [
       "['Remember,', 'remember,', 'the', 'fifth', 'of', 'July.']"
      ]
     },
     "execution_count": 24,
     "metadata": {},
     "output_type": "execute_result"
    }
   ],
   "source": [
    "'Remember, remember, the fifth of July.'.split()"
   ]
  },
  {
   "cell_type": "code",
   "execution_count": 25,
   "id": "72facbe7",
   "metadata": {},
   "outputs": [
    {
     "data": {
      "text/plain": [
       "'There-can-only-one.'"
      ]
     },
     "execution_count": 25,
     "metadata": {},
     "output_type": "execute_result"
    }
   ],
   "source": [
    "'-'.join('There can only one.'.split())"
   ]
  },
  {
   "cell_type": "markdown",
   "id": "67a135f3",
   "metadata": {},
   "source": [
    "## 9. What are the methods for right-justifying, left-justifying, and centering a string?"
   ]
  },
  {
   "cell_type": "code",
   "execution_count": null,
   "id": "0f2eb854",
   "metadata": {},
   "outputs": [],
   "source": [
    "The rjust(), ljust(), and center() string methods, respectively."
   ]
  },
  {
   "cell_type": "code",
   "execution_count": 35,
   "id": "54d018dc",
   "metadata": {},
   "outputs": [
    {
     "data": {
      "text/plain": [
       "'*************Prakash kumar jha'"
      ]
     },
     "execution_count": 35,
     "metadata": {},
     "output_type": "execute_result"
    }
   ],
   "source": [
    "name = \"Prakash kumar jha\" \n",
    "name.rjust(30,'*')\n"
   ]
  },
  {
   "cell_type": "code",
   "execution_count": 36,
   "id": "1b5c5ccc",
   "metadata": {},
   "outputs": [
    {
     "data": {
      "text/plain": [
       "'Prakash kumar jha*************'"
      ]
     },
     "execution_count": 36,
     "metadata": {},
     "output_type": "execute_result"
    }
   ],
   "source": [
    "name = \"Prakash kumar jha\" chrome://newtab/\n",
    "name.ljust(30,'*')\n"
   ]
  },
  {
   "cell_type": "code",
   "execution_count": 37,
   "id": "8534e7a1",
   "metadata": {},
   "outputs": [
    {
     "data": {
      "text/plain": [
       "'******Prakash kumar jha*******'"
      ]
     },
     "execution_count": 37,
     "metadata": {},
     "output_type": "execute_result"
    }
   ],
   "source": [
    "name = \"Prakash kumar jha\" \n",
    "name.center(30,'*')\n"
   ]
  },
  {
   "cell_type": "markdown",
   "id": "ac281c25",
   "metadata": {},
   "source": [
    "## 10. What is the best way to remove whitespace characters from the start or end?"
   ]
  },
  {
   "cell_type": "code",
   "execution_count": null,
   "id": "75026309",
   "metadata": {},
   "outputs": [],
   "source": [
    "The lstrip() and rstrip() methods remove whitespace from the left and\n",
    "right ends of a string, respectively.\n",
    "strip() methods remove whitespace from both left and right ends."
   ]
  },
  {
   "cell_type": "code",
   "execution_count": 41,
   "id": "3ffa33ed",
   "metadata": {},
   "outputs": [
    {
     "data": {
      "text/plain": [
       "'Elephant'"
      ]
     },
     "execution_count": 41,
     "metadata": {},
     "output_type": "execute_result"
    }
   ],
   "source": [
    "s = '      Elephant      '\n",
    "\n",
    "s.strip()"
   ]
  }
 ],
 "metadata": {
  "kernelspec": {
   "display_name": "Python 3 (ipykernel)",
   "language": "python",
   "name": "python3"
  },
  "language_info": {
   "codemirror_mode": {
    "name": "ipython",
    "version": 3
   },
   "file_extension": ".py",
   "mimetype": "text/x-python",
   "name": "python",
   "nbconvert_exporter": "python",
   "pygments_lexer": "ipython3",
   "version": "3.10.6"
  }
 },
 "nbformat": 4,
 "nbformat_minor": 5
}
